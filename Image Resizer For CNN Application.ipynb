{
 "cells": [
  {
   "cell_type": "code",
   "execution_count": null,
   "id": "f5779285-fda6-411b-8bfc-de47e48d017c",
   "metadata": {},
   "outputs": [],
   "source": [
    "\"C:\\Users\\naveen kumar pandey\\Desktop\\DATA ANALYTICS\\PYTHON\\ML and Dl\\CNN DATASET\\archive\\train\\dandelion\""
   ]
  },
  {
   "cell_type": "code",
   "execution_count": 2,
   "id": "0cba3f2c-0334-49d3-b05b-18a9a7097ed1",
   "metadata": {},
   "outputs": [
    {
     "name": "stdout",
     "output_type": "stream",
     "text": [
      "Resized and saved 080.jpg to C:\\Users\\naveen kumar pandey\\Desktop\\DATA ANALYTICS\\PYTHON\\ML and Dl\\Test\n"
     ]
    }
   ],
   "source": [
    "import os\n",
    "from PIL import Image\n",
    "\n",
    "# Define source and destination folders\n",
    "source_folder = r\"C:\\Users\\naveen kumar pandey\\Desktop\\DATA ANALYTICS\\PYTHON\\ML and Dl\\Test\"  # Update with the path to your source folder\n",
    "destination_folder = r\"C:\\Users\\naveen kumar pandey\\Desktop\\DATA ANALYTICS\\PYTHON\\ML and Dl\\Test\"  # Update with the path to your destination folder\n",
    "\n",
    "# Create the destination folder if it doesn't exist\n",
    "if not os.path.exists(destination_folder):\n",
    "    os.makedirs(destination_folder)\n",
    "\n",
    "# Loop through each file in the source folder\n",
    "for filename in os.listdir(source_folder):\n",
    "    # Construct full file path\n",
    "    img_path = os.path.join(source_folder, filename)\n",
    "    \n",
    "    try:\n",
    "        # Open an image file\n",
    "        with Image.open(img_path) as img:\n",
    "            # Resize the image to 64x64\n",
    "            img_resized = img.resize((64, 64))\n",
    "            \n",
    "            # Save the resized image to the destination folder\n",
    "            save_path = os.path.join(destination_folder, filename)\n",
    "            img_resized.save(save_path)\n",
    "            \n",
    "            print(f\"Resized and saved {filename} to {destination_folder}\")\n",
    "    \n",
    "    except Exception as e:\n",
    "        print(f\"Could not process {filename}: {e}\")\n"
   ]
  },
  {
   "cell_type": "code",
   "execution_count": null,
   "id": "fbee8f0e-efda-4a64-957a-f7754d156064",
   "metadata": {},
   "outputs": [],
   "source": []
  }
 ],
 "metadata": {
  "kernelspec": {
   "display_name": "Python 3 (ipykernel)",
   "language": "python",
   "name": "python3"
  },
  "language_info": {
   "codemirror_mode": {
    "name": "ipython",
    "version": 3
   },
   "file_extension": ".py",
   "mimetype": "text/x-python",
   "name": "python",
   "nbconvert_exporter": "python",
   "pygments_lexer": "ipython3",
   "version": "3.11.7"
  }
 },
 "nbformat": 4,
 "nbformat_minor": 5
}
